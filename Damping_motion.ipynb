{
  "nbformat": 4,
  "nbformat_minor": 0,
  "metadata": {
    "colab": {
      "provenance": []
    },
    "kernelspec": {
      "name": "python3",
      "display_name": "Python 3"
    },
    "language_info": {
      "name": "python"
    }
  },
  "cells": [
    {
      "cell_type": "code",
      "execution_count": null,
      "metadata": {
        "id": "HSJPglGgjjtm"
      },
      "outputs": [],
      "source": [
        "import math\n",
        "import matplotlib.pyplot as plt"
      ]
    },
    {
      "cell_type": "code",
      "source": [
        "A = float(input('Enter the number: '))\n",
        "B = float(input('Enter the number: '))\n",
        "C = float(input('Enter the number: '))\n",
        "x0 = float(input('Enter the number: '))\n",
        "v0 = float(input('Enter the number: '))"
      ],
      "metadata": {
        "colab": {
          "base_uri": "https://localhost:8080/"
        },
        "id": "oJ42YRazpTS8",
        "outputId": "deb5d453-4f5b-4112-b5b0-615e94f7c3ff"
      },
      "execution_count": null,
      "outputs": [
        {
          "name": "stdout",
          "output_type": "stream",
          "text": [
            "Enter the number: 1\n",
            "Enter the number: 2\n",
            "Enter the number: 1\n",
            "Enter the number: 10\n",
            "Enter the number: 10\n"
          ]
        }
      ]
    },
    {
      "cell_type": "code",
      "source": [
        "# This case for criticle damping.\n",
        "A=1\n",
        "B=2\n",
        "C=1\n",
        "x0=1\n",
        "v0=1"
      ],
      "metadata": {
        "id": "W8NtA9lbu1kM"
      },
      "execution_count": null,
      "outputs": []
    },
    {
      "cell_type": "code",
      "source": [
        "D = B**2-4*A*C\n",
        "alpha = B/(2*A)\n",
        "beta = (abs((B**2)/(4*A**2)-(C/A)))**0.5\n",
        "a1 = (-B + D**0.5)/2*A\n",
        "a2 = (-B - D**0.5)/2*A"
      ],
      "metadata": {
        "id": "Zft_vPuJpAzG"
      },
      "execution_count": null,
      "outputs": []
    },
    {
      "cell_type": "code",
      "source": [
        "T = [i / 100 for i in range(1000)]"
      ],
      "metadata": {
        "id": "IH7h1QDXubd-"
      },
      "execution_count": null,
      "outputs": []
    },
    {
      "cell_type": "code",
      "source": [
        "def damp():\n",
        "  if D > 0:\n",
        "    print('Over-damped')\n",
        "    x1 = []\n",
        "    for t in T:\n",
        "      d1 = (v0 - x0*a1) / (a1 - a2)\n",
        "      d2 = (v0 - x0*a2) / (a2 - a1)\n",
        "      X = (d1 * math.exp(( - alpha + beta) * t) + d2 * math.exp(( - alpha - beta) * t))   \n",
        "      x1.append(X) \n",
        "\n",
        "  elif D == 0:\n",
        "    print('Critically-damped')\n",
        "    x1 = [] \n",
        "    for t in T:\n",
        "      X = math.exp( - B * t / (2 * A)) * (x0 + (v0 - a1 * x0) * t)\n",
        "      x1.append(X)\n",
        "\n",
        "  else:\n",
        "    print('Under-damped')\n",
        "    x1 = [] \n",
        "    for t in T:\n",
        "      X = math.exp( - alpha * t) * (x0 * math.cos(beta * t) + ((v0 + alpha * x0) * math.sin(beta * t) / beta))\n",
        "      x1.append(X)\n",
        "\n",
        "  return x1\n"
      ],
      "metadata": {
        "id": "jJzIFoaSocLZ"
      },
      "execution_count": null,
      "outputs": []
    },
    {
      "cell_type": "code",
      "source": [
        "plt.plot(T, damp())"
      ],
      "metadata": {
        "colab": {
          "base_uri": "https://localhost:8080/",
          "height": 300
        },
        "id": "tS3__qJ-uB04",
        "outputId": "a41a74de-ac99-41a2-b5cc-e4e5888d7db6"
      },
      "execution_count": null,
      "outputs": [
        {
          "output_type": "stream",
          "name": "stdout",
          "text": [
            "Critically-damped\n"
          ]
        },
        {
          "output_type": "execute_result",
          "data": {
            "text/plain": [
              "[<matplotlib.lines.Line2D at 0x7f82e44e65e0>]"
            ]
          },
          "metadata": {},
          "execution_count": 7
        },
        {
          "output_type": "display_data",
          "data": {
            "text/plain": [
              "<Figure size 432x288 with 1 Axes>"
            ],
            "image/png": "[encoded data removed]"
          },
          "metadata": {
            "needs_background": "light"
          }
        }
      ]
    },
    {
      "cell_type": "code",
      "source": [
        "# This case for over-damping.\n",
        "A=1\n",
        "B=19\n",
        "C=90\n",
        "x0=1\n",
        "v0=1"
      ],
      "metadata": {
        "id": "7ga--tSTvDw8"
      },
      "execution_count": null,
      "outputs": []
    },
    {
      "cell_type": "code",
      "source": [
        "D = B**2-4*A*C\n",
        "alpha = B/(2*A)\n",
        "beta = (abs((B**2)/(4*A**2)-(C/A)))**0.5\n",
        "a1 = (-B + D**0.5)/2*A\n",
        "a2 = (-B - D**0.5)/2*A "
      ],
      "metadata": {
        "id": "bKH9cZe9vLy3"
      },
      "execution_count": null,
      "outputs": []
    },
    {
      "cell_type": "code",
      "source": [
        "plt.plot(T, damp())"
      ],
      "metadata": {
        "colab": {
          "base_uri": "https://localhost:8080/",
          "height": 301
        },
        "id": "b4pRpu3kvQ2k",
        "outputId": "68771f27-3302-4828-b9ab-2f893772c030"
      },
      "execution_count": null,
      "outputs": [
        {
          "output_type": "stream",
          "name": "stdout",
          "text": [
            "Over-damped\n"
          ]
        },
        {
          "output_type": "execute_result",
          "data": {
            "text/plain": [
              "[<matplotlib.lines.Line2D at 0x7f82e43e2430>]"
            ]
          },
          "metadata": {},
          "execution_count": 10
        },
        {
          "output_type": "display_data",
          "data": {
            "text/plain": [
              "<Figure size 432x288 with 1 Axes>"
            ],
            "image/png": "[encoded data removed]"
          },
          "metadata": {
            "needs_background": "light"
          }
        }
      ]
    },
    {
      "cell_type": "code",
      "source": [
        "# This case for under-damping.\n",
        "A=1\n",
        "B=2\n",
        "C=75\n",
        "x0=10\n",
        "v0=10"
      ],
      "metadata": {
        "id": "7Z6uMZvrwCSZ"
      },
      "execution_count": null,
      "outputs": []
    },
    {
      "cell_type": "code",
      "source": [
        "D = B**2-4*A*C\n",
        "alpha = B/(2*A)\n",
        "beta = (abs((B**2)/(4*A**2)-(C/A)))**0.5\n",
        "a1 = (-B + D**0.5)/2*A\n",
        "a2 = (-B - D**0.5)/2*A "
      ],
      "metadata": {
        "id": "OLcEN2v9wQ2S"
      },
      "execution_count": null,
      "outputs": []
    },
    {
      "cell_type": "code",
      "source": [
        "plt.plot(T, damp())"
      ],
      "metadata": {
        "colab": {
          "base_uri": "https://localhost:8080/",
          "height": 300
        },
        "id": "vvhuMvbNwTwB",
        "outputId": "ce334e38-143b-42f7-ee98-d99699f42dad"
      },
      "execution_count": null,
      "outputs": [
        {
          "output_type": "stream",
          "name": "stdout",
          "text": [
            "Under-damped\n"
          ]
        },
        {
          "output_type": "execute_result",
          "data": {
            "text/plain": [
              "[<matplotlib.lines.Line2D at 0x7f82e4354280>]"
            ]
          },
          "metadata": {},
          "execution_count": 13
        },
        {
          "output_type": "display_data",
          "data": {
            "text/plain": [
              "<Figure size 432x288 with 1 Axes>"
            ],
            "image/png": "[encoded data removed]"
          },
          "metadata": {
            "needs_background": "light"
          }
        }
      ]
    }
  ]
}